{
 "metadata": {
  "language_info": {
   "codemirror_mode": {
    "name": "ipython",
    "version": 3
   },
   "file_extension": ".py",
   "mimetype": "text/x-python",
   "name": "python",
   "nbconvert_exporter": "python",
   "pygments_lexer": "ipython3",
   "version": "3.8.4-final"
  },
  "orig_nbformat": 2,
  "kernelspec": {
   "name": "Python 3.8.4 32-bit ('hel')",
   "display_name": "Python 3.8.4 32-bit ('hel')",
   "metadata": {
    "interpreter": {
     "hash": "788da2e3ec2755ef23e835beffd80bd8a1d1d1d2821fc8b6e6619ec0bb34fa47"
    }
   }
  }
 },
 "nbformat": 4,
 "nbformat_minor": 2,
 "cells": [
  {
   "cell_type": "code",
   "execution_count": 3,
   "metadata": {},
   "outputs": [],
   "source": [
    "import pandas as pd\n",
    "import hel\n",
    "\n",
    "with open(r'D:\\Documents\\compendium-data-407365945376374795-1602207901726.csv', encoding='utf8') as exp:\n",
    "    for _ in range(3): exp.readline()\n",
    "    compendium = pd.read_csv(exp)\n",
    "    compendium = compendium.fillna(0)\n",
    "    compendium = compendium.assign(Roles='')\n",
    "    compendium = compendium.set_index('Name')\n",
    "    compendium.loc[:, 'rs':'remotebomb'] = compendium.loc[:, 'rs':'remotebomb'].astype(int)\n",
    "loadout = pd.DataFrame(index=compendium.index, columns=['weapon', 'shield', 'support_1', 'support_2', 'support_3', 'support_4', 'support_5'], dtype=str)\n",
    "loadout = loadout.fillna('')\n",
    "MAX = len(loadout)"
   ]
  },
  {
   "cell_type": "code",
   "execution_count": 4,
   "metadata": {},
   "outputs": [],
   "source": [
    "roles = [\n",
    "    'raider',\n",
    "    'zookeeper',\n",
    "]\n",
    "\n",
    "shield_counts = {\n",
    "    'blast': 4,\n",
    "    'area': 1,\n",
    "}\n",
    "\n",
    "support_counts = {\n",
    "    'teleport': MAX,\n",
    "    'barrier': MAX,\n",
    "    'warp': 6,\n",
    "    'suppress': 7,\n",
    "    'destiny': 4,\n",
    "    'bond': 5,\n",
    "    'emp': 2,\n",
    "    'repair': 1,\n",
    "    'fortify': 1,\n",
    "    'rocket': 1,\n",
    "    'omegarocket': 1,\n",
    "}\n"
   ]
  },
  {
   "cell_type": "code",
   "execution_count": 5,
   "metadata": {},
   "outputs": [],
   "source": [
    "compendium.at['F10🌟  eTart', 'Roles'] = 'raider'\n",
    "compendium.at['F9 Ghost', 'Roles'] = 'raider'\n",
    "compendium.at['♾8⚡Imrah25', 'Roles'] = 'raider'\n",
    "compendium.at['F9 🤖 R Daneel Olivaw 🇺🇸', 'Roles'] = 'zookeeper'"
   ]
  },
  {
   "cell_type": "code",
   "execution_count": 6,
   "metadata": {
    "tags": []
   },
   "outputs": [],
   "source": [
    "hel.set_weapons(compendium, loadout)\n",
    "hel.set_shields(compendium, loadout, **shield_counts)\n",
    "hel.set_supports(compendium, loadout, **support_counts)\n",
    "    "
   ]
  },
  {
   "cell_type": "code",
   "execution_count": 7,
   "metadata": {},
   "outputs": [
    {
     "output_type": "stream",
     "name": "stdout",
     "text": [
      "                               weapon shield support_1  support_2  support_3  \\\nName                                                                           \n♾8⚡Imrah25               Mass Battery  Delta  Teleport  Time Warp    Destiny   \nF10🌟  eTart              Mass Battery  Delta  Teleport  Time Warp    Destiny   \nF8 😳 SuperiorDwarf🇺🇸          Battery  Omega  Teleport    Barrier       Bond   \nF8🦀 Jalle21                     Laser  Omega  Teleport    Barrier  Time Warp   \nF9  🔱 KB916 us                  Laser  Blast  Teleport    Barrier   Suppress   \nF9 🤖 R Daneel Olivaw 🇺🇸          DART  Omega  Teleport    Barrier       Bond   \nF9 blakezo                    Battery  Omega  Teleport    Barrier  Time Warp   \nF9 Ghost                      Battery  Delta  Teleport  Time Warp    Destiny   \nF9 holoman888                 Battery  Omega  Teleport    Barrier  Time Warp   \nF9 Leejiah🇬🇧♂                   Laser  Blast  Teleport    Barrier    Destiny   \nF9 SandOfStars🇬🇧🇸🇪              Laser  Blast  Teleport    Barrier  Time Warp   \nF9⚛ Quantum                   Battery  Omega  Teleport    Barrier   Suppress   \nF9🍺 Benstone 🇬🇧               Battery  Blast  Teleport    Barrier  Time Warp   \nF9🐠  Adamssss                 Battery   Area  Teleport    Barrier  Time Warp   \n\n                        support_4 support_5  \nName                                         \n♾8⚡Imrah25                   Leap            \nF10🌟  eTart                  Leap      Bond  \nF8 😳 SuperiorDwarf🇺🇸          EMP            \nF8🦀 Jalle21              Suppress            \nF9  🔱 KB916 us               Bond            \nF9 🤖 R Daneel Olivaw 🇺🇸   Impulse            \nF9 blakezo                Destiny            \nF9 Ghost                     Leap            \nF9 holoman888            Suppress   Destiny  \nF9 Leejiah🇬🇧♂                Bond            \nF9 SandOfStars🇬🇧🇸🇪       Suppress            \nF9⚛ Quantum               Destiny            \nF9🍺 Benstone 🇬🇧          Suppress            \nF9🐠  Adamssss            Suppress            \n"
     ]
    }
   ],
   "source": [
    "print(loadout)"
   ]
  },
  {
   "cell_type": "code",
   "execution_count": null,
   "metadata": {},
   "outputs": [],
   "source": []
  }
 ]
}